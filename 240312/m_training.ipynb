{
  "nbformat": 4,
  "nbformat_minor": 0,
  "metadata": {
    "colab": {
      "provenance": [],
      "include_colab_link": true
    },
    "kernelspec": {
      "name": "python3",
      "display_name": "Python 3"
    },
    "language_info": {
      "name": "python"
    }
  },
  "cells": [
    {
      "cell_type": "markdown",
      "metadata": {
        "id": "view-in-github",
        "colab_type": "text"
      },
      "source": [
        "<a href=\"https://colab.research.google.com/github/Suyeon-j/study_oml/blob/main/240312/m_training.ipynb\" target=\"_parent\"><img src=\"https://colab.research.google.com/assets/colab-badge.svg\" alt=\"Open In Colab\"/></a>"
      ]
    },
    {
      "cell_type": "code",
      "source": [
        "!! pip install -U open-metric-learning"
      ],
      "metadata": {
        "id": "QGsAZFF2zNGr",
        "colab": {
          "base_uri": "https://localhost:8080/"
        },
        "outputId": "8c1ca935-3abe-4818-8dec-8ca7f24a2744"
      },
      "execution_count": null,
      "outputs": [
        {
          "output_type": "execute_result",
          "data": {
            "text/plain": [
              "['Requirement already satisfied: open-metric-learning in /usr/local/lib/python3.10/dist-packages (2.1.6)',\n",
              " 'Requirement already satisfied: torch<=2.1.1,>=2.0 in /usr/local/lib/python3.10/dist-packages (from open-metric-learning) (2.1.1)',\n",
              " 'Requirement already satisfied: pytorch-lightning<=2.1.2,>=2.0 in /usr/local/lib/python3.10/dist-packages (from open-metric-learning) (2.1.2)',\n",
              " 'Requirement already satisfied: torchvision<=0.16.1 in /usr/local/lib/python3.10/dist-packages (from open-metric-learning) (0.16.1)',\n",
              " 'Requirement already satisfied: albumentations<=1.3.1,>=1.0 in /usr/local/lib/python3.10/dist-packages (from open-metric-learning) (1.3.1)',\n",
              " 'Requirement already satisfied: opencv-python>=4.1.1 in /usr/local/lib/python3.10/dist-packages (from open-metric-learning) (4.8.0.76)',\n",
              " 'Requirement already satisfied: pillow>=8.2 in /usr/local/lib/python3.10/dist-packages (from open-metric-learning) (9.4.0)',\n",
              " 'Requirement already satisfied: pandas>=1.0 in /usr/local/lib/python3.10/dist-packages (from open-metric-learning) (1.5.3)',\n",
              " 'Requirement already satisfied: matplotlib>3.5.2 in /usr/local/lib/python3.10/dist-packages (from open-metric-learning) (3.7.1)',\n",
              " 'Requirement already satisfied: hydra-core==1.3.0 in /usr/local/lib/python3.10/dist-packages (from open-metric-learning) (1.3.0)',\n",
              " 'Requirement already satisfied: validators>=0.18.0 in /usr/local/lib/python3.10/dist-packages (from open-metric-learning) (0.22.0)',\n",
              " 'Requirement already satisfied: gdown>=4.0 in /usr/local/lib/python3.10/dist-packages (from open-metric-learning) (4.7.3)',\n",
              " 'Requirement already satisfied: tensorboard in /usr/local/lib/python3.10/dist-packages (from open-metric-learning) (2.15.2)',\n",
              " 'Requirement already satisfied: omegaconf~=2.2 in /usr/local/lib/python3.10/dist-packages (from hydra-core==1.3.0->open-metric-learning) (2.3.0)',\n",
              " 'Requirement already satisfied: antlr4-python3-runtime==4.9.* in /usr/local/lib/python3.10/dist-packages (from hydra-core==1.3.0->open-metric-learning) (4.9.3)',\n",
              " 'Requirement already satisfied: packaging in /usr/local/lib/python3.10/dist-packages (from hydra-core==1.3.0->open-metric-learning) (24.0)',\n",
              " 'Requirement already satisfied: numpy>=1.11.1 in /usr/local/lib/python3.10/dist-packages (from albumentations<=1.3.1,>=1.0->open-metric-learning) (1.25.2)',\n",
              " 'Requirement already satisfied: scipy>=1.1.0 in /usr/local/lib/python3.10/dist-packages (from albumentations<=1.3.1,>=1.0->open-metric-learning) (1.11.4)',\n",
              " 'Requirement already satisfied: scikit-image>=0.16.1 in /usr/local/lib/python3.10/dist-packages (from albumentations<=1.3.1,>=1.0->open-metric-learning) (0.19.3)',\n",
              " 'Requirement already satisfied: PyYAML in /usr/local/lib/python3.10/dist-packages (from albumentations<=1.3.1,>=1.0->open-metric-learning) (6.0.1)',\n",
              " 'Requirement already satisfied: qudida>=0.0.4 in /usr/local/lib/python3.10/dist-packages (from albumentations<=1.3.1,>=1.0->open-metric-learning) (0.0.4)',\n",
              " 'Requirement already satisfied: opencv-python-headless>=4.1.1 in /usr/local/lib/python3.10/dist-packages (from albumentations<=1.3.1,>=1.0->open-metric-learning) (4.9.0.80)',\n",
              " 'Requirement already satisfied: filelock in /usr/local/lib/python3.10/dist-packages (from gdown>=4.0->open-metric-learning) (3.13.1)',\n",
              " 'Requirement already satisfied: requests[socks] in /usr/local/lib/python3.10/dist-packages (from gdown>=4.0->open-metric-learning) (2.31.0)',\n",
              " 'Requirement already satisfied: six in /usr/local/lib/python3.10/dist-packages (from gdown>=4.0->open-metric-learning) (1.16.0)',\n",
              " 'Requirement already satisfied: tqdm in /usr/local/lib/python3.10/dist-packages (from gdown>=4.0->open-metric-learning) (4.66.2)',\n",
              " 'Requirement already satisfied: beautifulsoup4 in /usr/local/lib/python3.10/dist-packages (from gdown>=4.0->open-metric-learning) (4.12.3)',\n",
              " 'Requirement already satisfied: contourpy>=1.0.1 in /usr/local/lib/python3.10/dist-packages (from matplotlib>3.5.2->open-metric-learning) (1.2.0)',\n",
              " 'Requirement already satisfied: cycler>=0.10 in /usr/local/lib/python3.10/dist-packages (from matplotlib>3.5.2->open-metric-learning) (0.12.1)',\n",
              " 'Requirement already satisfied: fonttools>=4.22.0 in /usr/local/lib/python3.10/dist-packages (from matplotlib>3.5.2->open-metric-learning) (4.49.0)',\n",
              " 'Requirement already satisfied: kiwisolver>=1.0.1 in /usr/local/lib/python3.10/dist-packages (from matplotlib>3.5.2->open-metric-learning) (1.4.5)',\n",
              " 'Requirement already satisfied: pyparsing>=2.3.1 in /usr/local/lib/python3.10/dist-packages (from matplotlib>3.5.2->open-metric-learning) (3.1.2)',\n",
              " 'Requirement already satisfied: python-dateutil>=2.7 in /usr/local/lib/python3.10/dist-packages (from matplotlib>3.5.2->open-metric-learning) (2.8.2)',\n",
              " 'Requirement already satisfied: pytz>=2020.1 in /usr/local/lib/python3.10/dist-packages (from pandas>=1.0->open-metric-learning) (2023.4)',\n",
              " 'Requirement already satisfied: fsspec[http]>2021.06.0 in /usr/local/lib/python3.10/dist-packages (from pytorch-lightning<=2.1.2,>=2.0->open-metric-learning) (2023.6.0)',\n",
              " 'Requirement already satisfied: torchmetrics>=0.7.0 in /usr/local/lib/python3.10/dist-packages (from pytorch-lightning<=2.1.2,>=2.0->open-metric-learning) (1.3.1)',\n",
              " 'Requirement already satisfied: typing-extensions>=4.0.0 in /usr/local/lib/python3.10/dist-packages (from pytorch-lightning<=2.1.2,>=2.0->open-metric-learning) (4.10.0)',\n",
              " 'Requirement already satisfied: lightning-utilities>=0.8.0 in /usr/local/lib/python3.10/dist-packages (from pytorch-lightning<=2.1.2,>=2.0->open-metric-learning) (0.10.1)',\n",
              " 'Requirement already satisfied: sympy in /usr/local/lib/python3.10/dist-packages (from torch<=2.1.1,>=2.0->open-metric-learning) (1.12)',\n",
              " 'Requirement already satisfied: networkx in /usr/local/lib/python3.10/dist-packages (from torch<=2.1.1,>=2.0->open-metric-learning) (3.2.1)',\n",
              " 'Requirement already satisfied: jinja2 in /usr/local/lib/python3.10/dist-packages (from torch<=2.1.1,>=2.0->open-metric-learning) (3.1.3)',\n",
              " 'Requirement already satisfied: nvidia-cuda-nvrtc-cu12==12.1.105 in /usr/local/lib/python3.10/dist-packages (from torch<=2.1.1,>=2.0->open-metric-learning) (12.1.105)',\n",
              " 'Requirement already satisfied: nvidia-cuda-runtime-cu12==12.1.105 in /usr/local/lib/python3.10/dist-packages (from torch<=2.1.1,>=2.0->open-metric-learning) (12.1.105)',\n",
              " 'Requirement already satisfied: nvidia-cuda-cupti-cu12==12.1.105 in /usr/local/lib/python3.10/dist-packages (from torch<=2.1.1,>=2.0->open-metric-learning) (12.1.105)',\n",
              " 'Requirement already satisfied: nvidia-cudnn-cu12==8.9.2.26 in /usr/local/lib/python3.10/dist-packages (from torch<=2.1.1,>=2.0->open-metric-learning) (8.9.2.26)',\n",
              " 'Requirement already satisfied: nvidia-cublas-cu12==12.1.3.1 in /usr/local/lib/python3.10/dist-packages (from torch<=2.1.1,>=2.0->open-metric-learning) (12.1.3.1)',\n",
              " 'Requirement already satisfied: nvidia-cufft-cu12==11.0.2.54 in /usr/local/lib/python3.10/dist-packages (from torch<=2.1.1,>=2.0->open-metric-learning) (11.0.2.54)',\n",
              " 'Requirement already satisfied: nvidia-curand-cu12==10.3.2.106 in /usr/local/lib/python3.10/dist-packages (from torch<=2.1.1,>=2.0->open-metric-learning) (10.3.2.106)',\n",
              " 'Requirement already satisfied: nvidia-cusolver-cu12==11.4.5.107 in /usr/local/lib/python3.10/dist-packages (from torch<=2.1.1,>=2.0->open-metric-learning) (11.4.5.107)',\n",
              " 'Requirement already satisfied: nvidia-cusparse-cu12==12.1.0.106 in /usr/local/lib/python3.10/dist-packages (from torch<=2.1.1,>=2.0->open-metric-learning) (12.1.0.106)',\n",
              " 'Requirement already satisfied: nvidia-nccl-cu12==2.18.1 in /usr/local/lib/python3.10/dist-packages (from torch<=2.1.1,>=2.0->open-metric-learning) (2.18.1)',\n",
              " 'Requirement already satisfied: nvidia-nvtx-cu12==12.1.105 in /usr/local/lib/python3.10/dist-packages (from torch<=2.1.1,>=2.0->open-metric-learning) (12.1.105)',\n",
              " 'Requirement already satisfied: triton==2.1.0 in /usr/local/lib/python3.10/dist-packages (from torch<=2.1.1,>=2.0->open-metric-learning) (2.1.0)',\n",
              " 'Requirement already satisfied: nvidia-nvjitlink-cu12 in /usr/local/lib/python3.10/dist-packages (from nvidia-cusolver-cu12==11.4.5.107->torch<=2.1.1,>=2.0->open-metric-learning) (12.4.99)',\n",
              " 'Requirement already satisfied: absl-py>=0.4 in /usr/local/lib/python3.10/dist-packages (from tensorboard->open-metric-learning) (1.4.0)',\n",
              " 'Requirement already satisfied: grpcio>=1.48.2 in /usr/local/lib/python3.10/dist-packages (from tensorboard->open-metric-learning) (1.62.1)',\n",
              " 'Requirement already satisfied: google-auth<3,>=1.6.3 in /usr/local/lib/python3.10/dist-packages (from tensorboard->open-metric-learning) (2.27.0)',\n",
              " 'Requirement already satisfied: google-auth-oauthlib<2,>=0.5 in /usr/local/lib/python3.10/dist-packages (from tensorboard->open-metric-learning) (1.2.0)',\n",
              " 'Requirement already satisfied: markdown>=2.6.8 in /usr/local/lib/python3.10/dist-packages (from tensorboard->open-metric-learning) (3.5.2)',\n",
              " 'Requirement already satisfied: protobuf!=4.24.0,>=3.19.6 in /usr/local/lib/python3.10/dist-packages (from tensorboard->open-metric-learning) (3.20.3)',\n",
              " 'Requirement already satisfied: setuptools>=41.0.0 in /usr/local/lib/python3.10/dist-packages (from tensorboard->open-metric-learning) (67.7.2)',\n",
              " 'Requirement already satisfied: tensorboard-data-server<0.8.0,>=0.7.0 in /usr/local/lib/python3.10/dist-packages (from tensorboard->open-metric-learning) (0.7.2)',\n",
              " 'Requirement already satisfied: werkzeug>=1.0.1 in /usr/local/lib/python3.10/dist-packages (from tensorboard->open-metric-learning) (3.0.1)',\n",
              " 'Requirement already satisfied: aiohttp!=4.0.0a0,!=4.0.0a1 in /usr/local/lib/python3.10/dist-packages (from fsspec[http]>2021.06.0->pytorch-lightning<=2.1.2,>=2.0->open-metric-learning) (3.9.3)',\n",
              " 'Requirement already satisfied: cachetools<6.0,>=2.0.0 in /usr/local/lib/python3.10/dist-packages (from google-auth<3,>=1.6.3->tensorboard->open-metric-learning) (5.3.3)',\n",
              " 'Requirement already satisfied: pyasn1-modules>=0.2.1 in /usr/local/lib/python3.10/dist-packages (from google-auth<3,>=1.6.3->tensorboard->open-metric-learning) (0.3.0)',\n",
              " 'Requirement already satisfied: rsa<5,>=3.1.4 in /usr/local/lib/python3.10/dist-packages (from google-auth<3,>=1.6.3->tensorboard->open-metric-learning) (4.9)',\n",
              " 'Requirement already satisfied: requests-oauthlib>=0.7.0 in /usr/local/lib/python3.10/dist-packages (from google-auth-oauthlib<2,>=0.5->tensorboard->open-metric-learning) (1.4.0)',\n",
              " 'Requirement already satisfied: scikit-learn>=0.19.1 in /usr/local/lib/python3.10/dist-packages (from qudida>=0.0.4->albumentations<=1.3.1,>=1.0->open-metric-learning) (1.2.2)',\n",
              " 'Requirement already satisfied: charset-normalizer<4,>=2 in /usr/local/lib/python3.10/dist-packages (from requests[socks]->gdown>=4.0->open-metric-learning) (3.3.2)',\n",
              " 'Requirement already satisfied: idna<4,>=2.5 in /usr/local/lib/python3.10/dist-packages (from requests[socks]->gdown>=4.0->open-metric-learning) (3.6)',\n",
              " 'Requirement already satisfied: urllib3<3,>=1.21.1 in /usr/local/lib/python3.10/dist-packages (from requests[socks]->gdown>=4.0->open-metric-learning) (2.0.7)',\n",
              " 'Requirement already satisfied: certifi>=2017.4.17 in /usr/local/lib/python3.10/dist-packages (from requests[socks]->gdown>=4.0->open-metric-learning) (2024.2.2)',\n",
              " 'Requirement already satisfied: imageio>=2.4.1 in /usr/local/lib/python3.10/dist-packages (from scikit-image>=0.16.1->albumentations<=1.3.1,>=1.0->open-metric-learning) (2.31.6)',\n",
              " 'Requirement already satisfied: tifffile>=2019.7.26 in /usr/local/lib/python3.10/dist-packages (from scikit-image>=0.16.1->albumentations<=1.3.1,>=1.0->open-metric-learning) (2024.2.12)',\n",
              " 'Requirement already satisfied: PyWavelets>=1.1.1 in /usr/local/lib/python3.10/dist-packages (from scikit-image>=0.16.1->albumentations<=1.3.1,>=1.0->open-metric-learning) (1.5.0)',\n",
              " 'Requirement already satisfied: MarkupSafe>=2.1.1 in /usr/local/lib/python3.10/dist-packages (from werkzeug>=1.0.1->tensorboard->open-metric-learning) (2.1.5)',\n",
              " 'Requirement already satisfied: soupsieve>1.2 in /usr/local/lib/python3.10/dist-packages (from beautifulsoup4->gdown>=4.0->open-metric-learning) (2.5)',\n",
              " 'Requirement already satisfied: PySocks!=1.5.7,>=1.5.6 in /usr/local/lib/python3.10/dist-packages (from requests[socks]->gdown>=4.0->open-metric-learning) (1.7.1)',\n",
              " 'Requirement already satisfied: mpmath>=0.19 in /usr/local/lib/python3.10/dist-packages (from sympy->torch<=2.1.1,>=2.0->open-metric-learning) (1.3.0)',\n",
              " 'Requirement already satisfied: aiosignal>=1.1.2 in /usr/local/lib/python3.10/dist-packages (from aiohttp!=4.0.0a0,!=4.0.0a1->fsspec[http]>2021.06.0->pytorch-lightning<=2.1.2,>=2.0->open-metric-learning) (1.3.1)',\n",
              " 'Requirement already satisfied: attrs>=17.3.0 in /usr/local/lib/python3.10/dist-packages (from aiohttp!=4.0.0a0,!=4.0.0a1->fsspec[http]>2021.06.0->pytorch-lightning<=2.1.2,>=2.0->open-metric-learning) (23.2.0)',\n",
              " 'Requirement already satisfied: frozenlist>=1.1.1 in /usr/local/lib/python3.10/dist-packages (from aiohttp!=4.0.0a0,!=4.0.0a1->fsspec[http]>2021.06.0->pytorch-lightning<=2.1.2,>=2.0->open-metric-learning) (1.4.1)',\n",
              " 'Requirement already satisfied: multidict<7.0,>=4.5 in /usr/local/lib/python3.10/dist-packages (from aiohttp!=4.0.0a0,!=4.0.0a1->fsspec[http]>2021.06.0->pytorch-lightning<=2.1.2,>=2.0->open-metric-learning) (6.0.5)',\n",
              " 'Requirement already satisfied: yarl<2.0,>=1.0 in /usr/local/lib/python3.10/dist-packages (from aiohttp!=4.0.0a0,!=4.0.0a1->fsspec[http]>2021.06.0->pytorch-lightning<=2.1.2,>=2.0->open-metric-learning) (1.9.4)',\n",
              " 'Requirement already satisfied: async-timeout<5.0,>=4.0 in /usr/local/lib/python3.10/dist-packages (from aiohttp!=4.0.0a0,!=4.0.0a1->fsspec[http]>2021.06.0->pytorch-lightning<=2.1.2,>=2.0->open-metric-learning) (4.0.3)',\n",
              " 'Requirement already satisfied: pyasn1<0.6.0,>=0.4.6 in /usr/local/lib/python3.10/dist-packages (from pyasn1-modules>=0.2.1->google-auth<3,>=1.6.3->tensorboard->open-metric-learning) (0.5.1)',\n",
              " 'Requirement already satisfied: oauthlib>=3.0.0 in /usr/local/lib/python3.10/dist-packages (from requests-oauthlib>=0.7.0->google-auth-oauthlib<2,>=0.5->tensorboard->open-metric-learning) (3.2.2)',\n",
              " 'Requirement already satisfied: joblib>=1.1.1 in /usr/local/lib/python3.10/dist-packages (from scikit-learn>=0.19.1->qudida>=0.0.4->albumentations<=1.3.1,>=1.0->open-metric-learning) (1.3.2)',\n",
              " 'Requirement already satisfied: threadpoolctl>=2.0.0 in /usr/local/lib/python3.10/dist-packages (from scikit-learn>=0.19.1->qudida>=0.0.4->albumentations<=1.3.1,>=1.0->open-metric-learning) (3.3.0)']"
            ]
          },
          "metadata": {},
          "execution_count": 1
        }
      ]
    },
    {
      "cell_type": "code",
      "source": [
        "from google.colab import drive\n",
        "drive.mount('/content/drive')"
      ],
      "metadata": {
        "colab": {
          "base_uri": "https://localhost:8080/"
        },
        "id": "DV-vUYsSpCQ0",
        "outputId": "70c220a3-ea92-4370-828e-766bd624e004"
      },
      "execution_count": null,
      "outputs": [
        {
          "output_type": "stream",
          "name": "stdout",
          "text": [
            "Mounted at /content/drive\n"
          ]
        }
      ]
    },
    {
      "cell_type": "code",
      "source": [
        "# !pip install facenet-pytorch"
      ],
      "metadata": {
        "id": "Kz328D4n8iN3"
      },
      "execution_count": null,
      "outputs": []
    },
    {
      "cell_type": "code",
      "source": [
        "# import os\n",
        "# from PIL import Image\n",
        "# from facenet_pytorch import MTCNN\n",
        "\n",
        "# # MTCNN 초기화\n",
        "# mtcnn = MTCNN(image_size=224, margin=20, min_face_size=20)\n",
        "\n",
        "# # 파일 경로 지정\n",
        "# dataset_root = \"OML/img/pre_MAN\"\n",
        "# cropped_images_dir = \"OML/img/MAN\"\n",
        "\n",
        "# # 이미지를 동일한 크기로 조정하고 얼굴을 자르는 변환 정의\n",
        "# def transform_image_with_crop(image_path):\n",
        "#     image = Image.open(image_path).convert('RGB')\n",
        "#     boxes, _ = mtcnn.detect(image)\n",
        "#     if boxes is not None:\n",
        "#         # 얼굴이 감지된 경우\n",
        "#         for i, box in enumerate(boxes):\n",
        "#             x_min, y_min, x_max, y_max = box\n",
        "#             cropped_face = image.crop((x_min, y_min, x_max, y_max))\n",
        "#             cropped_face.save(os.path.join(cropped_images_dir, os.path.basename(image_path)))\n",
        "\n",
        "# # 모든 이미지 파일에 대해 얼굴을 자르고 저장\n",
        "# for filename in os.listdir(dataset_root):\n",
        "#     if filename.endswith(\".jpg\") or filename.endswith(\".jpeg\") or filename.endswith(\".png\"):\n",
        "#         transform_image_with_crop(os.path.join(dataset_root, filename))"
      ],
      "metadata": {
        "id": "qiwlUyfL9gjw"
      },
      "execution_count": null,
      "outputs": []
    },
    {
      "cell_type": "code",
      "source": [
        "import torch\n",
        "from tqdm import tqdm\n",
        "\n",
        "from oml.datasets.base import DatasetWithLabels\n",
        "from oml.losses.triplet import TripletLossWithMiner\n",
        "from oml.miners.inbatch_all_tri import AllTripletsMiner\n",
        "from oml.models import ViTExtractor\n",
        "from oml.samplers.balance import BalanceSampler\n",
        "from oml.utils.download_mock_dataset import download_mock_dataset"
      ],
      "metadata": {
        "id": "INaiIfGSyhDQ"
      },
      "execution_count": null,
      "outputs": []
    },
    {
      "cell_type": "code",
      "source": [
        "import os\n",
        "os.chdir(\"OML/img/MAN\")\n",
        "\n",
        "# path\n",
        "fpath = os.listdir()\n",
        "path = sorted(fpath)\n",
        "\n",
        "# label\n",
        "n = 0\n",
        "label = []\n",
        "for i in path:\n",
        "  fst = [word[0] for word in path]\n",
        "  for letter in fst:\n",
        "    if letter == fst[0]:\n",
        "      label.append(n)\n",
        "    else:\n",
        "      break\n",
        "  n += 1\n",
        "\n",
        "  if len(label) >= len(path):\n",
        "    break"
      ],
      "metadata": {
        "id": "vDFO9Z592HFL"
      },
      "execution_count": null,
      "outputs": []
    },
    {
      "cell_type": "code",
      "source": [
        "# split\n",
        "split = [\"train\" for _ in label]\n",
        "idx = int(len(label) * 0.7)\n",
        "\n",
        "if label[idx] == label[idx - 1] and label[idx] == label[idx + 1]:\n",
        "  idx -= 1\n",
        "\n",
        "elif label[idx] == label[idx + 1]:\n",
        "  idx += 1\n",
        "\n",
        "for i in range(idx,len(split)):\n",
        "  split[i] = \"validation\""
      ],
      "metadata": {
        "id": "5ebf3cgQW1x8"
      },
      "execution_count": null,
      "outputs": []
    },
    {
      "cell_type": "code",
      "source": [
        "# is_query, is_gallery\n",
        "import numpy as np\n",
        "is_query = ['NaN' for _ in label]\n",
        "is_gallery = ['NaN' for _ in label]\n",
        "\n",
        "for i in range(idx,len(label)):\n",
        "  if label[i] != label[i - 1] and label[i] == label[i + 1]:\n",
        "    is_query[i] = True\n",
        "    is_gallery[i] = False\n",
        "  else:\n",
        "    is_query[i] = False\n",
        "    is_gallery[i] = True"
      ],
      "metadata": {
        "id": "TTKfl-92dJ0p"
      },
      "execution_count": null,
      "outputs": []
    },
    {
      "cell_type": "code",
      "source": [
        "# 테이블 생성\n",
        "import os\n",
        "os.chdir(\"OML/\")\n",
        "import sqlite3\n",
        "\n",
        "conn = sqlite3.connect('img/m_img.db')\n",
        "cursor = conn.cursor()\n",
        "\n",
        "cursor.execute('''CREATE TABLE m_img\n",
        "                  (label, path, split, is_query, is_gallery)''')"
      ],
      "metadata": {
        "id": "XZ0lAcg20uWU",
        "colab": {
          "base_uri": "https://localhost:8080/"
        },
        "outputId": "dfdccdba-ac48-4511-968f-a77d044bd162"
      },
      "execution_count": null,
      "outputs": [
        {
          "output_type": "execute_result",
          "data": {
            "text/plain": [
              "<sqlite3.Cursor at 0x7f6aa8617340>"
            ]
          },
          "metadata": {},
          "execution_count": 8
        }
      ]
    },
    {
      "cell_type": "code",
      "source": [
        "# db에 데이터 삽입\n",
        "for i in range(len(label)):\n",
        "    cursor.execute(\"insert into m_img values (?, ?, ?, ?, ?)\", (label[i], path[i], split[i], is_query[i], is_gallery[i]))\n",
        "\n",
        "conn.commit()"
      ],
      "metadata": {
        "id": "qXmSO3AyeAnA"
      },
      "execution_count": null,
      "outputs": []
    },
    {
      "cell_type": "code",
      "source": [
        "# DF 타입 출력\n",
        "import pandas as pd\n",
        "\n",
        "cursor.execute(\"SELECT * FROM m_img;\")\n",
        "rows = cursor.fetchall()\n",
        "\n",
        "cols = [column[0] for column in cursor.description]\n",
        "\n",
        "df = pd.DataFrame.from_records(data=rows, columns=cols)\n",
        "conn.close()\n",
        "df"
      ],
      "metadata": {
        "id": "mvuriQ42fw8u"
      },
      "execution_count": null,
      "outputs": []
    },
    {
      "cell_type": "code",
      "source": [
        "import pandas as pd\n",
        "\n",
        "df_train = df[df['split'] == \"train\"]\n",
        "dataset_root = \"img/MAN/\""
      ],
      "metadata": {
        "id": "-HvVbsaFiFOD"
      },
      "execution_count": null,
      "outputs": []
    },
    {
      "cell_type": "code",
      "source": [
        "from torchvision import transforms\n",
        "\n",
        "image_transform = transforms.Compose([\n",
        "    transforms.Resize((224, 224)),  # 원하는 크기로 조정\n",
        "    transforms.ToTensor(),  # 텐서로 변환\n",
        "])"
      ],
      "metadata": {
        "id": "51t0BM2TuGgA"
      },
      "execution_count": null,
      "outputs": []
    },
    {
      "cell_type": "code",
      "source": [
        "image_paths = dataset_root + df[\"path\"]"
      ],
      "metadata": {
        "id": "TfK2Bf7My7Td"
      },
      "execution_count": null,
      "outputs": []
    },
    {
      "cell_type": "code",
      "source": [
        "# import cv2\n",
        "\n",
        "# for img_path in image_paths:\n",
        "#     image = cv2.imread(img_path)\n",
        "#     print(f\"이미지 경로: {img_path}, 이미지 크기: {image.shape}\")"
      ],
      "metadata": {
        "id": "LXreye5LzSbe"
      },
      "execution_count": null,
      "outputs": []
    },
    {
      "cell_type": "code",
      "execution_count": null,
      "metadata": {
        "id": "7JmNEHSly3sX",
        "colab": {
          "base_uri": "https://localhost:8080/"
        },
        "outputId": "cc8effbf-f200-4b34-b0d7-635fb10dd078"
      },
      "outputs": [
        {
          "output_type": "stream",
          "name": "stdout",
          "text": [
            "https://dl.fbaipublicfiles.com/dino/dino_deitsmall16_pretrain/dino_deitsmall16_pretrain.pth\n",
            "Checkpoint is already here.\n"
          ]
        }
      ],
      "source": [
        "model = ViTExtractor(\"vits16_dino\", arch=\"vits16\", normalise_features=False).train()\n",
        "optimizer = torch.optim.SGD(model.parameters(), lr=1e-6)\n",
        "train_dataset = DatasetWithLabels(df_train, dataset_root=dataset_root, transform=image_transform)\n",
        "criterion = TripletLossWithMiner(margin=0.1, miner=AllTripletsMiner(), need_logs=True)\n",
        "sampler = BalanceSampler(train_dataset.get_labels(), n_labels=2, n_instances=2)"
      ]
    },
    {
      "cell_type": "code",
      "source": [
        "# torch.utils.data.DataLoader(): 데이터를 미니배치 형태로 만듦\n",
        "train_loader = torch.utils.data.DataLoader(train_dataset, batch_sampler=sampler)"
      ],
      "metadata": {
        "id": "7XgVFNvn1QTh"
      },
      "execution_count": null,
      "outputs": []
    },
    {
      "cell_type": "code",
      "source": [
        "for batch in tqdm(train_loader):\n",
        "    embeddings = model(batch[\"input_tensors\"])\n",
        "\n",
        "    loss = criterion(embeddings, batch[\"labels\"])\n",
        "    print(\"\\n\",batch[\"input_tensors\"], \"\\n\", batch[\"labels\"])\n",
        "    loss.backward()\n",
        "    optimizer.step()\n",
        "    optimizer.zero_grad()\n",
        "\n",
        "    # info for logging: positive/negative distances, number of active triplets\n",
        "    print(criterion.last_logs)"
      ],
      "metadata": {
        "id": "HmypJ_qSgZqJ",
        "colab": {
          "base_uri": "https://localhost:8080/"
        },
        "outputId": "1998c141-6533-492f-a189-17ff5fb88a65"
      },
      "execution_count": null,
      "outputs": [
        {
          "output_type": "stream",
          "name": "stderr",
          "text": [
            "\r  0%|          | 0/2 [00:00<?, ?it/s]"
          ]
        },
        {
          "output_type": "stream",
          "name": "stdout",
          "text": [
            "\n",
            " tensor([[[[0.7412, 0.7451, 0.6627,  ..., 0.7020, 0.6784, 0.5843],\n",
            "          [0.7373, 0.7569, 0.7294,  ..., 0.6314, 0.6549, 0.6706],\n",
            "          [0.6863, 0.7137, 0.7490,  ..., 0.6392, 0.6314, 0.6784],\n",
            "          ...,\n",
            "          [0.0157, 0.0196, 0.0196,  ..., 0.3608, 0.3608, 0.3608],\n",
            "          [0.0196, 0.0235, 0.0235,  ..., 0.3608, 0.3608, 0.3608],\n",
            "          [0.0118, 0.0196, 0.0275,  ..., 0.3608, 0.3608, 0.3608]],\n",
            "\n",
            "         [[0.6627, 0.6667, 0.5843,  ..., 0.6627, 0.6392, 0.5529],\n",
            "          [0.6588, 0.6784, 0.6510,  ..., 0.5922, 0.6196, 0.6392],\n",
            "          [0.6078, 0.6353, 0.6706,  ..., 0.5922, 0.5882, 0.6392],\n",
            "          ...,\n",
            "          [0.0745, 0.0745, 0.0667,  ..., 0.6510, 0.6510, 0.6510],\n",
            "          [0.0706, 0.0745, 0.0706,  ..., 0.6510, 0.6510, 0.6510],\n",
            "          [0.0627, 0.0706, 0.0706,  ..., 0.6510, 0.6510, 0.6510]],\n",
            "\n",
            "         [[0.6196, 0.6235, 0.5412,  ..., 0.6471, 0.6314, 0.5412],\n",
            "          [0.6157, 0.6353, 0.6078,  ..., 0.5765, 0.6118, 0.6275],\n",
            "          [0.5647, 0.5922, 0.6275,  ..., 0.5765, 0.5804, 0.6314],\n",
            "          ...,\n",
            "          [0.1490, 0.1490, 0.1451,  ..., 0.9922, 0.9922, 0.9922],\n",
            "          [0.1373, 0.1412, 0.1412,  ..., 0.9922, 0.9922, 0.9922],\n",
            "          [0.1294, 0.1373, 0.1412,  ..., 0.9922, 0.9922, 0.9922]]],\n",
            "\n",
            "\n",
            "        [[[0.5686, 0.4824, 0.5608,  ..., 0.1020, 0.1255, 0.1333],\n",
            "          [0.5373, 0.4941, 0.5490,  ..., 0.0824, 0.1137, 0.1373],\n",
            "          [0.5059, 0.5608, 0.5451,  ..., 0.0510, 0.0863, 0.1216],\n",
            "          ...,\n",
            "          [0.7020, 0.7020, 0.7020,  ..., 0.0118, 0.0157, 0.0196],\n",
            "          [0.7020, 0.7020, 0.7020,  ..., 0.0118, 0.0157, 0.0196],\n",
            "          [0.7020, 0.7020, 0.7020,  ..., 0.0118, 0.0157, 0.0196]],\n",
            "\n",
            "         [[0.4706, 0.3843, 0.4627,  ..., 0.1020, 0.1255, 0.1333],\n",
            "          [0.4431, 0.4000, 0.4549,  ..., 0.0824, 0.1137, 0.1373],\n",
            "          [0.4157, 0.4706, 0.4549,  ..., 0.0510, 0.0863, 0.1216],\n",
            "          ...,\n",
            "          [0.7216, 0.7216, 0.7216,  ..., 0.0275, 0.0314, 0.0353],\n",
            "          [0.7216, 0.7216, 0.7216,  ..., 0.0275, 0.0314, 0.0353],\n",
            "          [0.7216, 0.7216, 0.7216,  ..., 0.0275, 0.0314, 0.0353]],\n",
            "\n",
            "         [[0.5451, 0.4588, 0.5373,  ..., 0.1020, 0.1255, 0.1333],\n",
            "          [0.5176, 0.4706, 0.5255,  ..., 0.0824, 0.1137, 0.1373],\n",
            "          [0.4863, 0.5412, 0.5255,  ..., 0.0510, 0.0863, 0.1216],\n",
            "          ...,\n",
            "          [0.7961, 0.7961, 0.7961,  ..., 0.0627, 0.0667, 0.0706],\n",
            "          [0.7961, 0.7961, 0.7961,  ..., 0.0627, 0.0667, 0.0706],\n",
            "          [0.7961, 0.7961, 0.7961,  ..., 0.0627, 0.0667, 0.0706]]],\n",
            "\n",
            "\n",
            "        [[[0.0627, 0.0627, 0.0588,  ..., 0.0863, 0.0824, 0.0824],\n",
            "          [0.0627, 0.0627, 0.0588,  ..., 0.0941, 0.0902, 0.0902],\n",
            "          [0.0627, 0.0627, 0.0588,  ..., 0.0980, 0.0941, 0.0941],\n",
            "          ...,\n",
            "          [0.9725, 0.9725, 0.9725,  ..., 0.9647, 0.9725, 0.9765],\n",
            "          [0.9725, 0.9725, 0.9725,  ..., 0.9647, 0.9725, 0.9765],\n",
            "          [0.9725, 0.9725, 0.9725,  ..., 0.9647, 0.9725, 0.9765]],\n",
            "\n",
            "         [[0.0549, 0.0549, 0.0510,  ..., 0.0784, 0.0745, 0.0745],\n",
            "          [0.0549, 0.0549, 0.0510,  ..., 0.0863, 0.0824, 0.0824],\n",
            "          [0.0549, 0.0549, 0.0510,  ..., 0.0902, 0.0863, 0.0863],\n",
            "          ...,\n",
            "          [0.9804, 0.9804, 0.9804,  ..., 0.9686, 0.9725, 0.9725],\n",
            "          [0.9804, 0.9804, 0.9804,  ..., 0.9686, 0.9725, 0.9725],\n",
            "          [0.9804, 0.9804, 0.9804,  ..., 0.9686, 0.9725, 0.9765]],\n",
            "\n",
            "         [[0.0745, 0.0745, 0.0706,  ..., 0.0824, 0.0784, 0.0784],\n",
            "          [0.0745, 0.0745, 0.0706,  ..., 0.0902, 0.0863, 0.0863],\n",
            "          [0.0745, 0.0745, 0.0706,  ..., 0.0941, 0.0902, 0.0902],\n",
            "          ...,\n",
            "          [0.9765, 0.9765, 0.9765,  ..., 0.9843, 0.9882, 0.9922],\n",
            "          [0.9765, 0.9765, 0.9765,  ..., 0.9804, 0.9843, 0.9882],\n",
            "          [0.9765, 0.9765, 0.9765,  ..., 0.9765, 0.9804, 0.9843]]],\n",
            "\n",
            "\n",
            "        [[[0.1333, 0.1882, 0.1608,  ..., 0.0157, 0.0235, 0.0314],\n",
            "          [0.1608, 0.1725, 0.1333,  ..., 0.0157, 0.0157, 0.0157],\n",
            "          [0.1490, 0.1373, 0.0902,  ..., 0.0157, 0.0157, 0.0118],\n",
            "          ...,\n",
            "          [0.3529, 0.3529, 0.3529,  ..., 0.3490, 0.3490, 0.3529],\n",
            "          [0.3529, 0.3529, 0.3529,  ..., 0.3451, 0.3451, 0.3490],\n",
            "          [0.3529, 0.3529, 0.3529,  ..., 0.3412, 0.3412, 0.3412]],\n",
            "\n",
            "         [[0.1490, 0.2039, 0.1765,  ..., 0.0118, 0.0196, 0.0275],\n",
            "          [0.1725, 0.1882, 0.1490,  ..., 0.0118, 0.0118, 0.0118],\n",
            "          [0.1647, 0.1529, 0.1059,  ..., 0.0118, 0.0118, 0.0118],\n",
            "          ...,\n",
            "          [0.4353, 0.4353, 0.4353,  ..., 0.4510, 0.4510, 0.4510],\n",
            "          [0.4353, 0.4353, 0.4353,  ..., 0.4471, 0.4471, 0.4510],\n",
            "          [0.4353, 0.4353, 0.4353,  ..., 0.4431, 0.4431, 0.4431]],\n",
            "\n",
            "         [[0.1922, 0.2471, 0.2196,  ..., 0.0314, 0.0392, 0.0471],\n",
            "          [0.2196, 0.2314, 0.1922,  ..., 0.0314, 0.0314, 0.0314],\n",
            "          [0.2078, 0.1961, 0.1490,  ..., 0.0314, 0.0314, 0.0275],\n",
            "          ...,\n",
            "          [0.5098, 0.5098, 0.5098,  ..., 0.5137, 0.5176, 0.5176],\n",
            "          [0.5098, 0.5098, 0.5098,  ..., 0.5098, 0.5137, 0.5176],\n",
            "          [0.5098, 0.5098, 0.5098,  ..., 0.5059, 0.5098, 0.5059]]]]) \n",
            " tensor([0, 0, 3, 3])\n"
          ]
        },
        {
          "output_type": "stream",
          "name": "stderr",
          "text": [
            "\r 50%|█████     | 1/2 [00:04<00:04,  4.08s/it]"
          ]
        },
        {
          "output_type": "stream",
          "name": "stdout",
          "text": [
            "{'active_tri': 0.375, 'pos_dist': 49.01888656616211, 'neg_dist': 50.11931228637695}\n",
            "\n",
            " tensor([[[[0.3490, 0.3882, 0.3569,  ..., 0.7412, 0.6471, 0.6235],\n",
            "          [0.4863, 0.3686, 0.3098,  ..., 0.6745, 0.6627, 0.6392],\n",
            "          [0.3333, 0.3255, 0.2941,  ..., 0.3098, 0.6235, 0.6353],\n",
            "          ...,\n",
            "          [0.6941, 0.7137, 0.7255,  ..., 0.6510, 0.6627, 0.6706],\n",
            "          [0.6745, 0.6824, 0.7020,  ..., 0.6588, 0.6627, 0.6706],\n",
            "          [0.6627, 0.6627, 0.6706,  ..., 0.6784, 0.6902, 0.6863]],\n",
            "\n",
            "         [[0.2863, 0.3255, 0.2980,  ..., 0.9098, 0.8941, 0.9255],\n",
            "          [0.4235, 0.3059, 0.2471,  ..., 0.8275, 0.9020, 0.9529],\n",
            "          [0.2745, 0.2667, 0.2353,  ..., 0.4471, 0.8549, 0.9412],\n",
            "          ...,\n",
            "          [0.5255, 0.5451, 0.5569,  ..., 0.9176, 0.9255, 0.9373],\n",
            "          [0.5137, 0.5176, 0.5373,  ..., 0.9216, 0.9255, 0.9294],\n",
            "          [0.5412, 0.5255, 0.5255,  ..., 0.9451, 0.9529, 0.9451]],\n",
            "\n",
            "         [[0.2863, 0.3255, 0.3020,  ..., 0.9922, 0.9686, 0.9647],\n",
            "          [0.4275, 0.3059, 0.2510,  ..., 0.9333, 0.9686, 0.9882],\n",
            "          [0.2745, 0.2667, 0.2392,  ..., 0.5804, 0.9176, 0.9804],\n",
            "          ...,\n",
            "          [0.4588, 0.4784, 0.4902,  ..., 0.9882, 0.9922, 0.9961],\n",
            "          [0.4431, 0.4510, 0.4667,  ..., 0.9843, 0.9882, 0.9922],\n",
            "          [0.4588, 0.4471, 0.4510,  ..., 0.9922, 0.9961, 0.9922]]],\n",
            "\n",
            "\n",
            "        [[[0.4902, 0.4392, 0.3882,  ..., 0.7216, 0.7216, 0.7059],\n",
            "          [0.4667, 0.4078, 0.3882,  ..., 0.6941, 0.7412, 0.7373],\n",
            "          [0.4039, 0.3765, 0.3725,  ..., 0.5922, 0.7020, 0.7765],\n",
            "          ...,\n",
            "          [0.8353, 0.8510, 0.8588,  ..., 0.8941, 0.8941, 0.8902],\n",
            "          [0.8471, 0.8627, 0.8627,  ..., 0.8980, 0.8980, 0.8980],\n",
            "          [0.8549, 0.8667, 0.8667,  ..., 0.8941, 0.8941, 0.8941]],\n",
            "\n",
            "         [[0.3608, 0.3255, 0.3020,  ..., 0.5686, 0.5686, 0.5451],\n",
            "          [0.3451, 0.3020, 0.3020,  ..., 0.5451, 0.5882, 0.5765],\n",
            "          [0.2902, 0.2706, 0.2824,  ..., 0.4431, 0.5490, 0.6196],\n",
            "          ...,\n",
            "          [0.8627, 0.8784, 0.8824,  ..., 0.9137, 0.9137, 0.9098],\n",
            "          [0.8667, 0.8824, 0.8824,  ..., 0.9176, 0.9176, 0.9176],\n",
            "          [0.8706, 0.8824, 0.8824,  ..., 0.9137, 0.9137, 0.9137]],\n",
            "\n",
            "         [[0.2353, 0.2000, 0.1765,  ..., 0.4078, 0.4078, 0.3882],\n",
            "          [0.2196, 0.1804, 0.1804,  ..., 0.3804, 0.4275, 0.4196],\n",
            "          [0.1725, 0.1529, 0.1686,  ..., 0.2824, 0.3882, 0.4588],\n",
            "          ...,\n",
            "          [0.9647, 0.9804, 0.9804,  ..., 0.9922, 0.9922, 0.9882],\n",
            "          [0.9765, 0.9922, 0.9843,  ..., 0.9922, 0.9961, 0.9961],\n",
            "          [0.9843, 0.9961, 0.9882,  ..., 0.9922, 0.9922, 0.9922]]],\n",
            "\n",
            "\n",
            "        [[[0.0627, 0.0784, 0.0510,  ..., 0.1490, 0.1686, 0.1137],\n",
            "          [0.0588, 0.0706, 0.0549,  ..., 0.1608, 0.1882, 0.1490],\n",
            "          [0.0706, 0.0706, 0.0667,  ..., 0.1608, 0.1882, 0.1725],\n",
            "          ...,\n",
            "          [0.9961, 0.9961, 0.9961,  ..., 0.8863, 0.8863, 0.8863],\n",
            "          [0.9961, 0.9961, 0.9961,  ..., 0.8863, 0.8863, 0.8863],\n",
            "          [0.9961, 0.9961, 0.9961,  ..., 0.8863, 0.8863, 0.8863]],\n",
            "\n",
            "         [[0.0471, 0.0627, 0.0353,  ..., 0.1098, 0.1294, 0.0745],\n",
            "          [0.0431, 0.0549, 0.0392,  ..., 0.1137, 0.1373, 0.1020],\n",
            "          [0.0549, 0.0549, 0.0510,  ..., 0.1098, 0.1373, 0.1216],\n",
            "          ...,\n",
            "          [0.3490, 0.3490, 0.3490,  ..., 0.8588, 0.8588, 0.8588],\n",
            "          [0.3490, 0.3490, 0.3490,  ..., 0.8588, 0.8588, 0.8588],\n",
            "          [0.3490, 0.3490, 0.3490,  ..., 0.8588, 0.8588, 0.8588]],\n",
            "\n",
            "         [[0.0353, 0.0510, 0.0235,  ..., 0.0745, 0.0941, 0.0392],\n",
            "          [0.0314, 0.0431, 0.0275,  ..., 0.0824, 0.1059, 0.0667],\n",
            "          [0.0431, 0.0431, 0.0392,  ..., 0.0784, 0.1059, 0.0902],\n",
            "          ...,\n",
            "          [0.4157, 0.4157, 0.4157,  ..., 0.9216, 0.9216, 0.9216],\n",
            "          [0.4157, 0.4157, 0.4157,  ..., 0.9216, 0.9216, 0.9216],\n",
            "          [0.4157, 0.4157, 0.4157,  ..., 0.9216, 0.9216, 0.9216]]],\n",
            "\n",
            "\n",
            "        [[[0.1294, 0.1255, 0.1255,  ..., 0.1176, 0.1373, 0.1490],\n",
            "          [0.1176, 0.1176, 0.1294,  ..., 0.1137, 0.1333, 0.1451],\n",
            "          [0.1098, 0.1216, 0.1412,  ..., 0.1098, 0.1294, 0.1412],\n",
            "          ...,\n",
            "          [0.5686, 0.5686, 0.5686,  ..., 0.9529, 0.9529, 0.9529],\n",
            "          [0.5725, 0.5725, 0.5725,  ..., 0.9529, 0.9529, 0.9529],\n",
            "          [0.5725, 0.5725, 0.5765,  ..., 0.9529, 0.9529, 0.9529]],\n",
            "\n",
            "         [[0.1294, 0.1255, 0.1255,  ..., 0.1294, 0.1490, 0.1608],\n",
            "          [0.1176, 0.1176, 0.1294,  ..., 0.1255, 0.1451, 0.1569],\n",
            "          [0.1098, 0.1216, 0.1412,  ..., 0.1216, 0.1412, 0.1529],\n",
            "          ...,\n",
            "          [0.4549, 0.4549, 0.4549,  ..., 0.6706, 0.6706, 0.6706],\n",
            "          [0.4588, 0.4588, 0.4588,  ..., 0.6706, 0.6706, 0.6706],\n",
            "          [0.4588, 0.4588, 0.4627,  ..., 0.6706, 0.6706, 0.6706]],\n",
            "\n",
            "         [[0.1686, 0.1647, 0.1647,  ..., 0.1647, 0.1843, 0.1961],\n",
            "          [0.1569, 0.1569, 0.1686,  ..., 0.1608, 0.1804, 0.1922],\n",
            "          [0.1490, 0.1608, 0.1804,  ..., 0.1569, 0.1765, 0.1882],\n",
            "          ...,\n",
            "          [0.4235, 0.4235, 0.4235,  ..., 0.7176, 0.7176, 0.7176],\n",
            "          [0.4275, 0.4275, 0.4275,  ..., 0.7176, 0.7176, 0.7176],\n",
            "          [0.4275, 0.4275, 0.4314,  ..., 0.7176, 0.7176, 0.7176]]]]) \n",
            " tensor([2, 2, 4, 4])\n"
          ]
        },
        {
          "output_type": "stream",
          "name": "stderr",
          "text": [
            "100%|██████████| 2/2 [00:07<00:00,  3.75s/it]"
          ]
        },
        {
          "output_type": "stream",
          "name": "stdout",
          "text": [
            "{'active_tri': 0.5, 'pos_dist': 48.331031799316406, 'neg_dist': 49.35740661621094}\n"
          ]
        },
        {
          "output_type": "stream",
          "name": "stderr",
          "text": [
            "\n"
          ]
        }
      ]
    },
    {
      "cell_type": "code",
      "source": [
        "import os\n",
        "import numpy as np\n",
        "import matplotlib.pyplot as plt\n",
        "from PIL import Image\n",
        "from sklearn.decomposition import PCA\n",
        "from sklearn.preprocessing import StandardScaler\n",
        "from torchvision import transforms\n",
        "\n",
        "# 이미지 파일 폴더 경로\n",
        "image_fpaths = 'OML/img/MAN'\n",
        "\n",
        "# 이미지 파일 목록 가져오기\n",
        "image_files = os.listdir(image_fpaths)\n",
        "\n",
        "# 이미지를 벡터로 변환하는 함수\n",
        "def image_to_vector(image_path):\n",
        "    image = Image.open(image_path).convert('RGB')\n",
        "\n",
        "    image = image_transform(image)\n",
        "    return image.flatten().numpy()  # 이미지를 1차원 벡터로 변환하여 반환\n",
        "\n",
        "# 이미지를 벡터로 변환하고 이미지 이름을 그룹화한 후, 각 그룹의 색상을 결정\n",
        "image_vectors = []\n",
        "image_groups = []\n",
        "for file_name in image_files:\n",
        "    image_path = os.path.join(image_fpaths, file_name)\n",
        "    image_vector = image_to_vector(image_path)\n",
        "    image_vectors.append(image_vector)\n",
        "    image_group = file_name[:6]  # 이미지 이름의 앞 6글자를 그룹화\n",
        "    image_groups.append(image_group)\n",
        "\n",
        "# 벡터 데이터를 numpy 배열로 변환\n",
        "image_vectors = np.array(image_vectors)\n",
        "\n",
        "# PCA 모델 초기화 및 학습\n",
        "pca = PCA(n_components=2)  # 2차원으로 축소\n",
        "pca.fit(image_vectors)\n",
        "\n",
        "# PCA를 통해 데이터 변환\n",
        "transformed_data = pca.transform(image_vectors)\n",
        "\n",
        "# 각 그룹의 대표 색상 선택\n",
        "unique_groups = list(set(image_groups))\n",
        "colors = [\n",
        "    (0.1, 0.2, 0.9),  # 첫 번째 그룹의 색상 (파란색)\n",
        "    (0.9, 0.2, 0.1),  # 두 번째 그룹의 색상 (빨간색)\n",
        "    (0.1, 0.9, 0.1),  # 세 번째 그룹의 색상 (초록색)\n",
        "    (0.9, 0.9, 0.1),  # 네 번째 그룹의 색상 (노란색)\n",
        "    (0.9, 0.1, 0.9),  # 다섯 번째 그룹의 색상 (자주색)\n",
        "    (0.1, 0.9, 0.9),  # 여섯 번째 그룹의 색상 (하늘색)\n",
        "]\n",
        "\n",
        "# 시각화\n",
        "plt.figure(figsize=(10, 6))\n",
        "for group, color in zip(unique_groups, colors):\n",
        "    group_indices = [i for i, g in enumerate(image_groups) if g == group]\n",
        "    group_data = transformed_data[group_indices, :]\n",
        "    plt.scatter(group_data[:, 0], group_data[:, 1], c=[color], label=group, alpha=0.5)\n",
        "plt.title('PCA of Man Images (Grouped by First 6 Characters)')\n",
        "plt.xlabel('Principal Component 1')\n",
        "plt.ylabel('Principal Component 2')\n",
        "plt.grid(True)\n",
        "plt.legend()\n",
        "plt.show()"
      ],
      "metadata": {
        "colab": {
          "base_uri": "https://localhost:8080/",
          "height": 564
        },
        "id": "0hI-V-xJnxMm",
        "outputId": "0449c8e9-17b8-406a-f12c-09aabc1d9f7d"
      },
      "execution_count": null,
      "outputs": [
        {
          "output_type": "display_data",
          "data": {
            "text/plain": [
              "<Figure size 1000x600 with 1 Axes>"
            ],
            "image/png": "[encoded data removed]"
          },
          "metadata": {}
        }
      ]
    }
  ]
}
